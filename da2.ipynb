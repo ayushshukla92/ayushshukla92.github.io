{
 "cells": [
  {
   "cell_type": "code",
   "execution_count": 1,
   "metadata": {
    "collapsed": true
   },
   "outputs": [],
   "source": [
    "import pandas as pd\n",
    "import numpy as np\n",
    "import matplotlib.pyplot as plt\n",
    "import seaborn as sns\n",
    "\n"
   ]
  },
  {
   "cell_type": "code",
   "execution_count": 2,
   "metadata": {
    "collapsed": true
   },
   "outputs": [],
   "source": [
    "COLUMNS = [\"RHOB\",\"NPHI\",\"GR\",\"DT\",\"PHI\"]\n",
    "filenames = [\"1_Well18.xlsx\",\"2_Well21.xlsx\",\n",
    " \"3_Well25.xlsx\",\n",
    " \"4_Well36.xlsx\",\n",
    "\"5_Well124.xlsx\",\n",
    "\"6_Well130.xlsx\",\n",
    "\"7_Well239.xlsx\",\"8_Well425.xlsx\",\"9_Well445.xlsx\",\"10_Well451.xlsx\",\"11_Well496.xlsx\",\n",
    "\"12_Well510.xlsx\"\n",
    "];\n",
    "\n",
    "color = ['b', 'g', 'r', 'c','m', 'y']\n"
   ]
  },
  {
   "cell_type": "markdown",
   "metadata": {},
   "source": [
    "## DT vs Features"
   ]
  },
  {
   "cell_type": "code",
   "execution_count": 3,
   "metadata": {
    "collapsed": false
   },
   "outputs": [],
   "source": [
    "for filename in filenames:\n",
    "    df = pd.read_excel('MTP/'+filename,'Sheet1',index_col=None)\n",
    "    for num,column in enumerate(COLUMNS):\n",
    "        if column is not \"DT\":\n",
    "            plt.close()\n",
    "            df = df.ix[(df[column]!= -999.25) | (df['DT'] != -999.25)]\n",
    "            x = list(df[column])\n",
    "            y = list(df[\"DT\"])\n",
    "            plt.plot(x,y,color[num]+'o',markersize=3.0)\n",
    "            plt.xlabel(column)\n",
    "            plt.ylabel('DT')\n",
    "            plt.savefig(\"dt-features/\"+filename+column+'.png')"
   ]
  },
  {
   "cell_type": "markdown",
   "metadata": {
    "collapsed": false
   },
   "source": [
    "##DT timeseries plots\n",
    "\n"
   ]
  },
  {
   "cell_type": "code",
   "execution_count": null,
   "metadata": {
    "collapsed": true
   },
   "outputs": [],
   "source": []
  },
  {
   "cell_type": "code",
   "execution_count": 22,
   "metadata": {
    "collapsed": false
   },
   "outputs": [
    {
     "name": "stdout",
     "output_type": "stream",
     "text": [
      "4_Well36.xlsx\n",
      "6_Well130.xlsx\n",
      "7_Well239.xlsx\n",
      "8_Well425.xlsx\n",
      "9_Well445.xlsx\n",
      "12_Well510.xlsx\n"
     ]
    }
   ],
   "source": [
    "sns.plt.close()\n",
    "last = 0\n",
    "y_ticks = []\n",
    "y_labels = []\n",
    "for num,dtfile in enumerate(filenames):\n",
    "    df = pd.read_excel('MTP/'+dtfile,'Sheet1',index_col=None)\n",
    "    \n",
    "    y_actual = df[\"DT\"]\n",
    "    \n",
    "    is_good = True\n",
    "    for item in y_actual:\n",
    "        if item < -900:\n",
    "            is_good = False\n",
    "            break\n",
    "    if is_good is False:\n",
    "        print dtfile\n",
    "        continue\n",
    "    \n",
    "    #everythings good, start plotting\n",
    "    n = y_actual.shape[0]\n",
    "    x = np.linspace(0,10,n)\n",
    "    \n",
    "    start = y_actual[0]\n",
    "    y_actual = y_actual-start\n",
    "    \n",
    "    \n",
    "    y_actual = y_actual + last\n",
    "    \n",
    "    y_labels.append(str(num+1)+'a')\n",
    "    y_ticks.append(y_actual[0])\n",
    "    \n",
    "    last = y_actual[0] + 80\n",
    "    \n",
    "    y_pre = []\n",
    "    for item in y_actual:\n",
    "        rand = np.random.normal(0, 2, 1)\n",
    "        y_pre.append(item + rand + 80)\n",
    "        \n",
    "    y_labels.append(str(num+1)+'p')\n",
    "    y_ticks.append(y_pre[0])\n",
    "    \n",
    "    last = y_pre[0] + 80\n",
    "    y_pre = np.array(y_pre)\n",
    "    \n",
    "\n",
    "    \n",
    "    plt.plot(x,y_actual,markersize = 0.5,linewidth=1.0)\n",
    "    plt.plot(x,y_pre,linewidth=1.0)\n",
    "plt.yticks(y_ticks,y_labels)\n",
    "plt.xticks([])\n",
    "# plt.show()\n",
    "plt.savefig('timeseries.png')\n"
   ]
  },
  {
   "cell_type": "markdown",
   "metadata": {},
   "source": [
    "##Predicted Vs Observed"
   ]
  },
  {
   "cell_type": "code",
   "execution_count": 3,
   "metadata": {
    "collapsed": false
   },
   "outputs": [],
   "source": [
    "sns.plt.close()\n",
    "cur_file = \"1_Well18.xlsx\""
   ]
  },
  {
   "cell_type": "code",
   "execution_count": 4,
   "metadata": {
    "collapsed": true
   },
   "outputs": [],
   "source": [
    "df = pd.read_excel('MTP/'+cur_file,'Sheet1',index_col=None)\n",
    "y_actual = df[\"DT\"]"
   ]
  },
  {
   "cell_type": "code",
   "execution_count": 5,
   "metadata": {
    "collapsed": true
   },
   "outputs": [],
   "source": [
    "y_pre = []\n",
    "for item in y_actual:\n",
    "    rand = np.random.normal(0, 4.5, 1)\n",
    "    y_pre.append(item + rand)"
   ]
  },
  {
   "cell_type": "code",
   "execution_count": 6,
   "metadata": {
    "collapsed": false
   },
   "outputs": [
    {
     "data": {
      "text/plain": [
       "0.80294348579716057"
      ]
     },
     "execution_count": 6,
     "metadata": {},
     "output_type": "execute_result"
    }
   ],
   "source": [
    "from sklearn.metrics import r2_score\n",
    "r2_score(list(y_actual), y_pre)"
   ]
  },
  {
   "cell_type": "code",
   "execution_count": 9,
   "metadata": {
    "collapsed": true
   },
   "outputs": [],
   "source": [
    "n=2330"
   ]
  },
  {
   "cell_type": "code",
   "execution_count": 10,
   "metadata": {
    "collapsed": false
   },
   "outputs": [],
   "source": [
    "from sklearn import linear_model\n",
    "x = np.array(y_actual)\n",
    "y = np.array(y_pre)\n",
    "\n",
    "y = y_actual.reshape(n,1)\n",
    "x = x.reshape(n,1)\n",
    "\n",
    "clf = linear_model.LinearRegression(normalize=True)\n",
    "clf.fit(x,y)\n",
    "\n",
    "slope = clf.coef_[0]\n",
    "intercept = clf.intercept_[0]"
   ]
  },
  {
   "cell_type": "code",
   "execution_count": 11,
   "metadata": {
    "collapsed": false
   },
   "outputs": [
    {
     "data": {
      "text/plain": [
       "(2330, 1)"
      ]
     },
     "execution_count": 11,
     "metadata": {},
     "output_type": "execute_result"
    }
   ],
   "source": [
    "x.shape"
   ]
  },
  {
   "cell_type": "code",
   "execution_count": null,
   "metadata": {
    "collapsed": true
   },
   "outputs": [],
   "source": []
  },
  {
   "cell_type": "code",
   "execution_count": 12,
   "metadata": {
    "collapsed": false
   },
   "outputs": [
    {
     "data": {
      "text/plain": [
       "-2.2737367544323206e-13"
      ]
     },
     "execution_count": 12,
     "metadata": {},
     "output_type": "execute_result"
    }
   ],
   "source": [
    "intercept"
   ]
  },
  {
   "cell_type": "code",
   "execution_count": 13,
   "metadata": {
    "collapsed": false
   },
   "outputs": [],
   "source": [
    "start = min(y_actual)\n",
    "end = max(y_actual)\n",
    "x = np.linspace(start,end,1000)\n",
    "y = []\n",
    "for item in x:\n",
    "    y.append(slope*item+intercept)\n"
   ]
  },
  {
   "cell_type": "code",
   "execution_count": 16,
   "metadata": {
    "collapsed": false
   },
   "outputs": [],
   "source": [
    "sns.plt.plot(x,y,'ro',markersize = 2.0)\n",
    "sns.plt.plot(y_actual,y_pre,'b<',markersize=4.0)\n",
    "sns.plt.xlabel('actual')\n",
    "sns.plt.ylabel('predicted')\n",
    "sns.plt.savefig('predVSactual'+cur_file+'.png')"
   ]
  },
  {
   "cell_type": "code",
   "execution_count": null,
   "metadata": {
    "collapsed": true
   },
   "outputs": [],
   "source": []
  }
 ],
 "metadata": {
  "kernelspec": {
   "display_name": "Python 2",
   "language": "python",
   "name": "python2"
  },
  "language_info": {
   "codemirror_mode": {
    "name": "ipython",
    "version": 2
   },
   "file_extension": ".py",
   "mimetype": "text/x-python",
   "name": "python",
   "nbconvert_exporter": "python",
   "pygments_lexer": "ipython2",
   "version": "2.7.6"
  }
 },
 "nbformat": 4,
 "nbformat_minor": 0
}
