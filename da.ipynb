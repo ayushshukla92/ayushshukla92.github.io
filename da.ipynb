{
 "cells": [
  {
   "cell_type": "code",
   "execution_count": 1,
   "metadata": {
    "collapsed": true
   },
   "outputs": [],
   "source": [
    "import pandas as pd\n",
    "import numpy as np\n",
    "import matplotlib.pyplot as plt"
   ]
  },
  {
   "cell_type": "code",
   "execution_count": 2,
   "metadata": {
    "collapsed": false
   },
   "outputs": [],
   "source": [
    "filenames = [\n",
    "\"7_Well239.xlsx\",\"8_Well425.xlsx\",\"9_Well445.xlsx\",\"10_Well451.xlsx\",\"11_Well496.xlsx\",\n",
    "\"12_Well510.xlsx\"\n",
    "];\n",
    "train_files = filenames[:5]"
   ]
  },
  {
   "cell_type": "code",
   "execution_count": 3,
   "metadata": {
    "collapsed": true
   },
   "outputs": [],
   "source": [
    "COLUMNS = [\"DEPTH\",\"RHOB\",\"NPHI\",\"GR\",\"DT\"]\n",
    "FEATURES = [\"RHOB\",\"NPHI\",\"GR\"]"
   ]
  },
  {
   "cell_type": "code",
   "execution_count": 4,
   "metadata": {
    "collapsed": true
   },
   "outputs": [],
   "source": [
    "df = pd.DataFrame()"
   ]
  },
  {
   "cell_type": "code",
   "execution_count": 5,
   "metadata": {
    "collapsed": false
   },
   "outputs": [],
   "source": [
    "for item in train_files:\n",
    "    cur_df = pd.read_excel('MTP/'+item, 'Sheet1', index_col=None)\n",
    "    df = df.append(cur_df[COLUMNS],ignore_index=True)\n",
    "    \n",
    "    \n"
   ]
  },
  {
   "cell_type": "code",
   "execution_count": 6,
   "metadata": {
    "collapsed": false
   },
   "outputs": [
    {
     "name": "stdout",
     "output_type": "stream",
     "text": [
      "(14143, 5)\n",
      "(8809, 5)\n"
     ]
    }
   ],
   "source": [
    "print df.shape\n",
    "df = df[(df.DT!=-999.25) & (df.RHOB!=-999.25) & (df.NPHI!=-999.25) & (df.GR!=-999.25)]\n",
    "print df.shape"
   ]
  },
  {
   "cell_type": "code",
   "execution_count": 7,
   "metadata": {
    "collapsed": false
   },
   "outputs": [
    {
     "data": {
      "text/html": [
       "<div>\n",
       "<table border=\"1\" class=\"dataframe\">\n",
       "  <thead>\n",
       "    <tr style=\"text-align: right;\">\n",
       "      <th></th>\n",
       "      <th>DEPTH</th>\n",
       "      <th>RHOB</th>\n",
       "      <th>NPHI</th>\n",
       "      <th>GR</th>\n",
       "      <th>DT</th>\n",
       "    </tr>\n",
       "  </thead>\n",
       "  <tbody>\n",
       "    <tr>\n",
       "      <th>3</th>\n",
       "      <td>2775.5088</td>\n",
       "      <td>2.435110</td>\n",
       "      <td>0.346101</td>\n",
       "      <td>40.670404</td>\n",
       "      <td>98.957324</td>\n",
       "    </tr>\n",
       "    <tr>\n",
       "      <th>4</th>\n",
       "      <td>2775.6612</td>\n",
       "      <td>2.445212</td>\n",
       "      <td>0.347706</td>\n",
       "      <td>41.349963</td>\n",
       "      <td>99.668471</td>\n",
       "    </tr>\n",
       "    <tr>\n",
       "      <th>5</th>\n",
       "      <td>2775.8136</td>\n",
       "      <td>2.452603</td>\n",
       "      <td>0.352515</td>\n",
       "      <td>42.251214</td>\n",
       "      <td>100.067070</td>\n",
       "    </tr>\n",
       "    <tr>\n",
       "      <th>6</th>\n",
       "      <td>2775.9660</td>\n",
       "      <td>2.453797</td>\n",
       "      <td>0.361714</td>\n",
       "      <td>41.875382</td>\n",
       "      <td>100.234240</td>\n",
       "    </tr>\n",
       "    <tr>\n",
       "      <th>7</th>\n",
       "      <td>2776.1184</td>\n",
       "      <td>2.447196</td>\n",
       "      <td>0.371803</td>\n",
       "      <td>41.119991</td>\n",
       "      <td>100.398700</td>\n",
       "    </tr>\n",
       "  </tbody>\n",
       "</table>\n",
       "</div>"
      ],
      "text/plain": [
       "       DEPTH      RHOB      NPHI         GR          DT\n",
       "3  2775.5088  2.435110  0.346101  40.670404   98.957324\n",
       "4  2775.6612  2.445212  0.347706  41.349963   99.668471\n",
       "5  2775.8136  2.452603  0.352515  42.251214  100.067070\n",
       "6  2775.9660  2.453797  0.361714  41.875382  100.234240\n",
       "7  2776.1184  2.447196  0.371803  41.119991  100.398700"
      ]
     },
     "execution_count": 7,
     "metadata": {},
     "output_type": "execute_result"
    }
   ],
   "source": [
    "df.head(5)"
   ]
  },
  {
   "cell_type": "code",
   "execution_count": 8,
   "metadata": {
    "collapsed": false
   },
   "outputs": [
    {
     "data": {
      "text/html": [
       "<div>\n",
       "<table border=\"1\" class=\"dataframe\">\n",
       "  <thead>\n",
       "    <tr style=\"text-align: right;\">\n",
       "      <th></th>\n",
       "      <th>DEPTH</th>\n",
       "      <th>RHOB</th>\n",
       "      <th>NPHI</th>\n",
       "      <th>GR</th>\n",
       "      <th>DT</th>\n",
       "    </tr>\n",
       "  </thead>\n",
       "  <tbody>\n",
       "    <tr>\n",
       "      <th>3</th>\n",
       "      <td>2775.5088</td>\n",
       "      <td>2.435110</td>\n",
       "      <td>0.346101</td>\n",
       "      <td>40.670404</td>\n",
       "      <td>98.957324</td>\n",
       "    </tr>\n",
       "    <tr>\n",
       "      <th>4</th>\n",
       "      <td>2775.6612</td>\n",
       "      <td>2.445212</td>\n",
       "      <td>0.347706</td>\n",
       "      <td>41.349963</td>\n",
       "      <td>99.668471</td>\n",
       "    </tr>\n",
       "    <tr>\n",
       "      <th>5</th>\n",
       "      <td>2775.8136</td>\n",
       "      <td>2.452603</td>\n",
       "      <td>0.352515</td>\n",
       "      <td>42.251214</td>\n",
       "      <td>100.067070</td>\n",
       "    </tr>\n",
       "    <tr>\n",
       "      <th>6</th>\n",
       "      <td>2775.9660</td>\n",
       "      <td>2.453797</td>\n",
       "      <td>0.361714</td>\n",
       "      <td>41.875382</td>\n",
       "      <td>100.234240</td>\n",
       "    </tr>\n",
       "    <tr>\n",
       "      <th>7</th>\n",
       "      <td>2776.1184</td>\n",
       "      <td>2.447196</td>\n",
       "      <td>0.371803</td>\n",
       "      <td>41.119991</td>\n",
       "      <td>100.398700</td>\n",
       "    </tr>\n",
       "  </tbody>\n",
       "</table>\n",
       "</div>"
      ],
      "text/plain": [
       "       DEPTH      RHOB      NPHI         GR          DT\n",
       "3  2775.5088  2.435110  0.346101  40.670404   98.957324\n",
       "4  2775.6612  2.445212  0.347706  41.349963   99.668471\n",
       "5  2775.8136  2.452603  0.352515  42.251214  100.067070\n",
       "6  2775.9660  2.453797  0.361714  41.875382  100.234240\n",
       "7  2776.1184  2.447196  0.371803  41.119991  100.398700"
      ]
     },
     "execution_count": 8,
     "metadata": {},
     "output_type": "execute_result"
    }
   ],
   "source": [
    "df.head(5)"
   ]
  },
  {
   "cell_type": "code",
   "execution_count": 9,
   "metadata": {
    "collapsed": true
   },
   "outputs": [],
   "source": [
    "df = df.sort_values(by=\"DEPTH\")"
   ]
  },
  {
   "cell_type": "code",
   "execution_count": 10,
   "metadata": {
    "collapsed": false
   },
   "outputs": [
    {
     "data": {
      "text/html": [
       "<div>\n",
       "<table border=\"1\" class=\"dataframe\">\n",
       "  <thead>\n",
       "    <tr style=\"text-align: right;\">\n",
       "      <th></th>\n",
       "      <th>DEPTH</th>\n",
       "      <th>RHOB</th>\n",
       "      <th>NPHI</th>\n",
       "      <th>GR</th>\n",
       "      <th>DT</th>\n",
       "    </tr>\n",
       "  </thead>\n",
       "  <tbody>\n",
       "    <tr>\n",
       "      <th>3535</th>\n",
       "      <td>2673.7056</td>\n",
       "      <td>2.360000</td>\n",
       "      <td>0.430734</td>\n",
       "      <td>64.326297</td>\n",
       "      <td>105.15000</td>\n",
       "    </tr>\n",
       "    <tr>\n",
       "      <th>3536</th>\n",
       "      <td>2673.8580</td>\n",
       "      <td>2.359511</td>\n",
       "      <td>0.437368</td>\n",
       "      <td>60.221711</td>\n",
       "      <td>105.15000</td>\n",
       "    </tr>\n",
       "    <tr>\n",
       "      <th>3537</th>\n",
       "      <td>2674.0104</td>\n",
       "      <td>2.323572</td>\n",
       "      <td>0.458727</td>\n",
       "      <td>62.227375</td>\n",
       "      <td>105.15000</td>\n",
       "    </tr>\n",
       "    <tr>\n",
       "      <th>3538</th>\n",
       "      <td>2674.1628</td>\n",
       "      <td>2.306771</td>\n",
       "      <td>0.489539</td>\n",
       "      <td>62.542708</td>\n",
       "      <td>105.15000</td>\n",
       "    </tr>\n",
       "    <tr>\n",
       "      <th>3539</th>\n",
       "      <td>2674.3152</td>\n",
       "      <td>2.304319</td>\n",
       "      <td>0.482252</td>\n",
       "      <td>61.706956</td>\n",
       "      <td>105.15000</td>\n",
       "    </tr>\n",
       "    <tr>\n",
       "      <th>3540</th>\n",
       "      <td>2674.4676</td>\n",
       "      <td>2.308664</td>\n",
       "      <td>0.459852</td>\n",
       "      <td>59.877785</td>\n",
       "      <td>105.84152</td>\n",
       "    </tr>\n",
       "    <tr>\n",
       "      <th>3541</th>\n",
       "      <td>2674.6200</td>\n",
       "      <td>2.264486</td>\n",
       "      <td>0.437299</td>\n",
       "      <td>58.674358</td>\n",
       "      <td>106.09804</td>\n",
       "    </tr>\n",
       "    <tr>\n",
       "      <th>3542</th>\n",
       "      <td>2674.7724</td>\n",
       "      <td>2.262016</td>\n",
       "      <td>0.423855</td>\n",
       "      <td>58.576253</td>\n",
       "      <td>103.32205</td>\n",
       "    </tr>\n",
       "    <tr>\n",
       "      <th>3543</th>\n",
       "      <td>2674.9248</td>\n",
       "      <td>2.273700</td>\n",
       "      <td>0.419237</td>\n",
       "      <td>55.232853</td>\n",
       "      <td>103.59746</td>\n",
       "    </tr>\n",
       "    <tr>\n",
       "      <th>3544</th>\n",
       "      <td>2675.0772</td>\n",
       "      <td>2.267772</td>\n",
       "      <td>0.424059</td>\n",
       "      <td>53.800148</td>\n",
       "      <td>103.55041</td>\n",
       "    </tr>\n",
       "  </tbody>\n",
       "</table>\n",
       "</div>"
      ],
      "text/plain": [
       "          DEPTH      RHOB      NPHI         GR         DT\n",
       "3535  2673.7056  2.360000  0.430734  64.326297  105.15000\n",
       "3536  2673.8580  2.359511  0.437368  60.221711  105.15000\n",
       "3537  2674.0104  2.323572  0.458727  62.227375  105.15000\n",
       "3538  2674.1628  2.306771  0.489539  62.542708  105.15000\n",
       "3539  2674.3152  2.304319  0.482252  61.706956  105.15000\n",
       "3540  2674.4676  2.308664  0.459852  59.877785  105.84152\n",
       "3541  2674.6200  2.264486  0.437299  58.674358  106.09804\n",
       "3542  2674.7724  2.262016  0.423855  58.576253  103.32205\n",
       "3543  2674.9248  2.273700  0.419237  55.232853  103.59746\n",
       "3544  2675.0772  2.267772  0.424059  53.800148  103.55041"
      ]
     },
     "execution_count": 10,
     "metadata": {},
     "output_type": "execute_result"
    }
   ],
   "source": [
    "df.head(10)"
   ]
  },
  {
   "cell_type": "code",
   "execution_count": 11,
   "metadata": {
    "collapsed": false
   },
   "outputs": [],
   "source": [
    "base = df.iloc[0,0]\n",
    "end = float(df.tail(1)[\"DEPTH\"])"
   ]
  },
  {
   "cell_type": "code",
   "execution_count": 12,
   "metadata": {
    "collapsed": true
   },
   "outputs": [],
   "source": [
    "depth_coeff = []"
   ]
  },
  {
   "cell_type": "code",
   "execution_count": 13,
   "metadata": {
    "collapsed": false
   },
   "outputs": [],
   "source": [
    "from sklearn import linear_model\n",
    "\n",
    "start = base\n",
    "last_end = 0.0\n",
    "\n",
    "while start < end:\n",
    "    \n",
    "    cur_df = df[(df.DEPTH<=(start+10)) & (df.DEPTH>(last_end))]\n",
    "    \n",
    "    x_train = cur_df[FEATURES]\n",
    "    y_train = cur_df[\"DT\"]\n",
    "    \n",
    "    clf = linear_model.LinearRegression(normalize=True)\n",
    "    clf.fit(x_train,y_train)\n",
    "    depth_coeff.append(clf)\n",
    "    \n",
    "    \n",
    "    last_end = start\n",
    "    start = start+10"
   ]
  },
  {
   "cell_type": "code",
   "execution_count": 14,
   "metadata": {
    "collapsed": false
   },
   "outputs": [],
   "source": [
    "def get_index(depth):\n",
    "    index=-1\n",
    "    start=base\n",
    "    while depth>start:\n",
    "        index = index+1\n",
    "        start += 10\n",
    "    \n",
    "    return index"
   ]
  },
  {
   "cell_type": "markdown",
   "metadata": {},
   "source": [
    "##Testing"
   ]
  },
  {
   "cell_type": "code",
   "execution_count": 15,
   "metadata": {
    "collapsed": true
   },
   "outputs": [],
   "source": [
    "test_file = filenames[5]"
   ]
  },
  {
   "cell_type": "code",
   "execution_count": 16,
   "metadata": {
    "collapsed": false
   },
   "outputs": [
    {
     "data": {
      "text/plain": [
       "'12_Well510.xlsx'"
      ]
     },
     "execution_count": 16,
     "metadata": {},
     "output_type": "execute_result"
    }
   ],
   "source": [
    "test_file"
   ]
  },
  {
   "cell_type": "code",
   "execution_count": 17,
   "metadata": {
    "collapsed": false
   },
   "outputs": [],
   "source": [
    "test_df = pd.read_excel('MTP/'+test_file, 'Sheet1', index_col=None)\n",
    "test_df = test_df[COLUMNS]\n",
    "test_df = test_df[(test_df.DT!=-999.25) & (test_df.RHOB!=-999.25) & (test_df.NPHI!=-999.25) & (test_df.GR!=-999.25)]"
   ]
  },
  {
   "cell_type": "code",
   "execution_count": 18,
   "metadata": {
    "collapsed": false
   },
   "outputs": [],
   "source": [
    "y_true = []\n",
    "y_pred = []\n",
    "for index,row in test_df.iterrows():\n",
    "    \n",
    "    cur_depth = row[\"DEPTH\"]\n",
    "    \n",
    "    x_test = row[FEATURES]\n",
    "    y_actual = row[\"DT\"]\n",
    "    \n",
    "    y_true.append(y_actual)\n",
    "    y_pred.append(clf.predict(x_test)[0])\n",
    "    \n",
    "    index = get_index(cur_depth)\n",
    "    clf = depth_coeff[index]\n",
    "    \n",
    "#     print clf.predict(x_test),y_actual"
   ]
  },
  {
   "cell_type": "markdown",
   "metadata": {},
   "source": [
    "##R-squared metric"
   ]
  },
  {
   "cell_type": "code",
   "execution_count": 19,
   "metadata": {
    "collapsed": false
   },
   "outputs": [
    {
     "data": {
      "text/plain": [
       "0.051253988808328654"
      ]
     },
     "execution_count": 19,
     "metadata": {},
     "output_type": "execute_result"
    }
   ],
   "source": [
    "from sklearn.metrics import r2_score\n",
    "r2_score(y_true, y_pred)"
   ]
  },
  {
   "cell_type": "code",
   "execution_count": 20,
   "metadata": {
    "collapsed": false
   },
   "outputs": [],
   "source": [
    "rows = []\n",
    "for clf in depth_coeff:\n",
    "    row = []\n",
    "    for item in clf.coef_:\n",
    "        row.append(item)\n",
    "    row.append(clf.intercept_)\n",
    "    rows.append(row)"
   ]
  },
  {
   "cell_type": "code",
   "execution_count": 21,
   "metadata": {
    "collapsed": false
   },
   "outputs": [],
   "source": [
    "df = pd.DataFrame()\n",
    "df = df.append(rows)\n",
    "df.to_csv('coefficients.csv')"
   ]
  },
  {
   "cell_type": "code",
   "execution_count": null,
   "metadata": {
    "collapsed": true
   },
   "outputs": [],
   "source": []
  }
 ],
 "metadata": {
  "kernelspec": {
   "display_name": "Python 2",
   "language": "python",
   "name": "python2"
  },
  "language_info": {
   "codemirror_mode": {
    "name": "ipython",
    "version": 2
   },
   "file_extension": ".py",
   "mimetype": "text/x-python",
   "name": "python",
   "nbconvert_exporter": "python",
   "pygments_lexer": "ipython2",
   "version": "2.7.6"
  }
 },
 "nbformat": 4,
 "nbformat_minor": 0
}
